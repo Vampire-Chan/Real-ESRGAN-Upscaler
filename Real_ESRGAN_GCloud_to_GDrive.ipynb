{
  "cells": [
    {
      "cell_type": "markdown",
      "metadata": {
        "id": "IRDbDYYMQt_Y"
      },
      "source": [
        "# **A Simple and Sweet WAY of Upscaling Images Using REAL-ESRGAN**"
      ]
    },
    {
      "cell_type": "code",
      "execution_count": null,
      "metadata": {
        "id": "jjwprhZc35NE",
        "cellView": "form"
      },
      "outputs": [],
      "source": [
        "# @markdown We Mount the Google Drive to Google Colab for Easyness.\n",
        "from google.colab import drive\n",
        "import os\n",
        "drive.mount('/content/drive')\n",
        "print(\"Google Drive has been Mounted to Colab.\")"
      ]
    },
    {
      "cell_type": "markdown",
      "metadata": {
        "id": "6BPxh_VmVVIu"
      },
      "source": [
        "# 1. Preparations\n",
        "Before start, make sure that you choose\n",
        "* Runtime Type = Python 3\n",
        "* Hardware Accelerator = GPU\n",
        "\n",
        "in the **Runtime** menu -> **Change runtime type**\n",
        "\n",
        "Then, we clone the repository, set up the envrironment."
      ]
    },
    {
      "cell_type": "code",
      "execution_count": null,
      "metadata": {
        "id": "GnpnrLfMV2jU",
        "cellView": "form"
      },
      "outputs": [],
      "source": [
        "# @markdown Cloning Real-ESRGAN and entering the Real-ESRGAN\n",
        "!git clone https://github.com/Vampire-Chan/Real-ESRGAN.git\n",
        "%cd Real-ESRGAN\n",
        "\n",
        "# Set up the environment\n",
        "!pip install basicsr\n",
        "!pip install facexlib\n",
        "!pip install gfpgan\n",
        "!pip install -r requirements.txt\n",
        "!python setup.py develop\n"
      ]
    },
    {
      "cell_type": "markdown",
      "metadata": {
        "id": "rqiEtaOYXnrt"
      },
      "source": [
        "# 2. Inference\n"
      ]
    },
    {
      "cell_type": "code",
      "execution_count": null,
      "metadata": {
        "collapsed": true,
        "id": "XTVL4m_zXqBU",
        "cellView": "form"
      },
      "outputs": [],
      "source": [
        "# @markdown # **Inference to Upscale Images**\n",
        "\n",
        "print(\"Checking Files and Folders and the Settings.\")\n",
        "# @markdown **Kind of Upscaler Models:**\n",
        "Upscaler = 'RealESRGAN_x4plus' # @param ['RealESRGAN_x4plus', 'RealESRNet_x4plus', 'RealESRGAN_x4plus_anime_6B', 'RealESRGAN_x2plus', 'realesr-animevideov3', 'realesr-general-x4v3']\n",
        "# @markdown **Put Image Folder here:**\n",
        "Input_Folder = \"/content/drive/MyDrive/upload\" # @param {type:\"string\"}\n",
        "\n",
        "# @markdown **Use Slider to change Upscaling Value:**\n",
        "Upscale_Slider = 4 # @param {type:\"slider\", min:2, max:10, step:0.5}\n",
        "# @markdown **Choose Extension format of the Image Upscaled:**\n",
        "Extension = 'jpg' # @param ['jpg', 'png']\n",
        "# @markdown **Change Tile Value incase GPU Runs out of Memory.**\n",
        "Tiling = 1024 # @param [\"0\", \"256\", \"512\", \"1024\"] {type:\"raw\", allow-input: true}\n",
        "\n",
        "print(\"Initializing Real-ESRGAN Upscaler.\")\n",
        "print(\"Upscaling Images from\" + Input_Folder + \"to somewhere 😈\")\n",
        "!python inference_realesrgan.py -n {Upscaler} -i {Input_Folder} --outscale {Upscale_Slider} --face_enhance --ext {Extension} --tile {Tiling}\n",
        "\n",
        "print(\"Upscaling Process is Complete. Now Zipping and Sending to Google Drive.\")"
      ]
    },
    {
      "cell_type": "markdown",
      "metadata": {
        "id": "nKH0syu9ZAwV"
      },
      "source": [
        "# 3. Download Results\n"
      ]
    },
    {
      "cell_type": "code",
      "execution_count": null,
      "metadata": {
        "id": "lHNHoP8PZJQ7",
        "cellView": "form"
      },
      "outputs": [],
      "source": [
        "# Download the results\n",
        "\n",
        "Zip_Filename = \"Upscaled.zip\" # @param {type:\"string\"}\n",
        "\n",
        "Google_Drive_Folder = \"/content/drive/MyDrive/Upscaled\" # @param {type:\"string\"}\n",
        "import os\n",
        "\n",
        "print(\"Zipping files as \"+ Zip_Filename +\".\")\n",
        "\n",
        "if os.path.exists(Zip_Filename):\n",
        " os.remove(Zip_Filename)\n",
        "os.system(f\"zip -r -j  {Zip_Filename} results/*\")\n",
        "print(\"Zipping Successful.\")\n",
        "\n",
        "import shutil\n",
        "\n",
        "colab_link = \"/content/Real-ESRGAN/\"\n",
        "gdrive_link = Google_Drive_Folder\n",
        "print(\"Copying \" + Zip_Filename + \" to Google Drive's \"+ gdrive_link +\" folder.\")\n",
        "shutil.copy(colab_link + Zip_Filename, gdrive_link)"
      ]
    },
    {
      "cell_type": "markdown",
      "source": [
        "# 4. Temp Folder Purging\n"
      ],
      "metadata": {
        "id": "7QLw63hG1daR"
      }
    },
    {
      "cell_type": "code",
      "source": [
        "# @markdown We will delete the Temp folder so that you can easily upscale images which are stored in different folders.\n",
        "\n",
        "import os\n",
        "import sys\n",
        "import shutil\n",
        "\n",
        "# Get directory name\n",
        "mydir = \"/content/Real-ESRGAN/results\"\n",
        "\n",
        "# Try to remove the tree; if it fails, throw an error using try...except.\n",
        "try:\n",
        "    shutil.rmtree(mydir)\n",
        "except OSError as e:\n",
        "    print(\"Error: %s - %s.\" % (e.filename, e.strerror))"
      ],
      "metadata": {
        "id": "w62Rs3aMoXuz",
        "cellView": "form"
      },
      "execution_count": null,
      "outputs": []
    }
  ],
  "metadata": {
    "accelerator": "GPU",
    "colab": {
      "provenance": [],
      "private_outputs": true,
      "gpuType": "T4",
      "toc_visible": true
    },
    "kernelspec": {
      "display_name": "Python 3",
      "name": "python3"
    },
    "language_info": {
      "name": "python"
    }
  },
  "nbformat": 4,
  "nbformat_minor": 0
}