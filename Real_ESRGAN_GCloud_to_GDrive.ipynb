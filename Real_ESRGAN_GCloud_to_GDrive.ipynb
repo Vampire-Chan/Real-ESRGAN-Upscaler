{
  "cells": [
    {
      "cell_type": "markdown",
      "metadata": {
        "id": "view-in-github",
        "colab_type": "text"
      },
      "source": [
        "<a href=\"https://colab.research.google.com/github/Vampire-Chan/Real-ESRGAN-Upscaler/blob/main/Real_ESRGAN_GCloud_to_GDrive.ipynb\" target=\"_parent\"><img src=\"https://colab.research.google.com/assets/colab-badge.svg\" alt=\"Open In Colab\"/></a>"
      ]
    },
    {
      "cell_type": "markdown",
      "metadata": {
        "id": "IRDbDYYMQt_Y"
      },
      "source": [
        "# **A Simple and Sweet WAY of Upscaling Images Using REAL-ESRGAN**"
      ]
    },
    {
      "cell_type": "code",
      "execution_count": null,
      "metadata": {
        "id": "jjwprhZc35NE"
      },
      "outputs": [],
      "source": [
        "# @markdown We Mount the Google Drive to Google Colab for Easyness.\n",
        "from google.colab import drive\n",
        "import os\n",
        "print(\"Connecting to Google Drive with Google Cloud...\")\n",
        "drive.mount('/content/drive')\n",
        "print(\"Google Drive has been Mounted to Colab!\")"
      ]
    },
    {
      "cell_type": "markdown",
      "metadata": {
        "id": "6BPxh_VmVVIu"
      },
      "source": [
        "# 1. Preparations\n",
        "Before start, make sure that you choose\n",
        "* Runtime Type = Python 3\n",
        "* Hardware Accelerator = GPU\n",
        "\n",
        "in the **Runtime** menu -> **Change runtime type**\n",
        "\n",
        "Then, we clone the repository, set up the envrironment."
      ]
    },
    {
      "cell_type": "code",
      "execution_count": null,
      "metadata": {
        "id": "GnpnrLfMV2jU"
      },
      "outputs": [],
      "source": [
        "# @markdown Cloning Real-ESRGAN and entering the Real-ESRGAN\n",
        "# %cd /content/drive/MyDrive\n",
        "\n",
        "!git clone https://github.com/Vampire-Chan/Real-ESRGAN.git\n",
        "%cd Real-ESRGAN\n",
        "\n",
        "# Set up the environment\n",
        "!pip install basicsr\n",
        "!pip install facexlib\n",
        "!pip install gfpgan\n",
        "!pip install -r requirements.txt\n",
        "!python setup.py develop"
      ]
    },
    {
      "cell_type": "markdown",
      "metadata": {
        "id": "rqiEtaOYXnrt"
      },
      "source": [
        "# 2. Inference\n"
      ]
    },
    {
      "cell_type": "code",
      "source": [
        "# @markdown Download Custom Model\n",
        "Link = \"https://github.com/Vampire-Chan/Real-ESRGAN/releases/download/test/4x-UltraSharp.pth\" # @param {type:\"string\"}\n",
        "\n",
        "!wget -P /content/Models {Link}\n",
        "print(\"Model Downloaded to /content/Models. Check File Browser\")"
      ],
      "metadata": {
        "id": "nNOzz8UBSQva"
      },
      "execution_count": null,
      "outputs": []
    },
    {
      "cell_type": "code",
      "execution_count": null,
      "metadata": {
        "collapsed": true,
        "id": "XTVL4m_zXqBU"
      },
      "outputs": [],
      "source": [
        "\n",
        "# @markdown # **Inference to Upscale Images**\n",
        "\n",
        "# @markdown Put `--face_enhance` to use GFPGAN in arguments\n",
        "print(\"Checking Files and Folders and the Settings.\")\n",
        "# @markdown **Default Upscaler Models:**\n",
        "Upscaler = \"\" # @param [\"\",\"RealESRGAN_x4plus\", \"RealESRNet_x4plus\", \"RealESRGAN_x4plus_anime_6B\", \"RealESRGAN_x2plus\", \"realesr-animevideov3\", \"realesr-general-x4v3\"]\n",
        "# @markdown **Put Image Folder here:**\n",
        "Input_Folder = \"/content/drive/MyDrive/Loras/shigure_kira/dataset\" # @param {type:\"string\"}\n",
        "\n",
        "# @markdown **Put Output Folder here:**\n",
        "Output_Folder = \"/content/drive/MyDrive/Upscaled\" # @param {type:\"string\"}\n",
        "# @markdown **Use Slider to change Upscaling Value:**\n",
        "Upscale_Slider = 4 # @param {type:\"slider\", min:2, max:10, step:0.5}\n",
        "# @markdown **Choose Extension format of the Image Upscaled:**\n",
        "Extension = 'jpg' # @param ['jpg', 'png', 'auto']\n",
        "# @markdown **Change Tile Value incase GPU Runs out of Memory.**\n",
        "Tiling = 1024 # @param [\"0\", \"256\", \"512\", \"1024\"] {type:\"raw\", allow-input: true}\n",
        "\n",
        "# @markdown **Custom Models:**\n",
        "\n",
        "Model_Path = \"\" # @param {type:\"string\"}\n",
        "\n",
        "print(\"Initializing Real-ESRGAN Upscaler.\")\n",
        "print(\"Upscaling Images from\" + Input_Folder + \" to somewhere 😈\")\n",
        "!python /content/Real-ESRGAN/inference_realesrgan.py -i {Input_Folder} --outscale {Upscale_Slider} --ext {Extension} --tile {Tiling} --suffix \"\" --model_path {Model_Path}\n",
        "\n",
        "print(\"Upscaling Process is Complete. Now Zipping and Sending to Google Drive.\")"
      ]
    },
    {
      "cell_type": "markdown",
      "metadata": {
        "id": "nKH0syu9ZAwV"
      },
      "source": [
        "# 3. Download Results\n"
      ]
    },
    {
      "cell_type": "code",
      "execution_count": null,
      "metadata": {
        "id": "lHNHoP8PZJQ7"
      },
      "outputs": [],
      "source": [
        "\n",
        "# @markdown Download the results\n",
        "\n",
        "Zip_Filename = \"Upscaled3.zip\" # @param {type:\"string\"}\n",
        "\n",
        "Google_Drive_Folder = \"/content/drive/MyDrive/\" # @param {type:\"string\"}\n",
        "import os\n",
        "\n",
        "print(\"Zipping files as \"+ Zip_Filename +\".\")\n",
        "\n",
        "if os.path.exists(Zip_Filename):\n",
        " os.remove(Zip_Filename)\n",
        "os.system(f\"zip -r -j  {Zip_Filename} {Output_Folder}/*\")\n",
        "print(\"Zipping Successful.\")\n",
        "\n",
        "import shuti\n",
        "\n",
        "colab_link = \"/content/Real-ESRGAN/\"\n",
        "gdrive_link = Google_Drive_Folder\n",
        "print(\"Copying \" + Zip_Filename + \" to Google Drive's \"+ gdrive_link +\" folder.\")\n",
        "shutil.copy(colab_link + Zip_Filename, gdrive_link)"
      ]
    },
    {
      "cell_type": "markdown",
      "source": [
        "# 4. Temp Folder Purging\n"
      ],
      "metadata": {
        "id": "7QLw63hG1daR"
      }
    },
    {
      "cell_type": "code",
      "source": [
        "# @markdown We will delete the Temp folder so that you can easily upscale images which are stored in different folders.\n",
        "\n",
        "import os\n",
        "import sys\n",
        "import shutil\n",
        "\n",
        "# Get directory name\n",
        "mydir = \"/content/Real-ESRGAN/results\"\n",
        "\n",
        "# Try to remove the tree; if it fails, throw an error using try...except.\n",
        "try:\n",
        "    shutil.rmtree(Output_Folder)\n",
        "except OSError as e:\n",
        "    print(\"Error: %s - %s.\" % (e.filename, e.strerror))\n",
        "print(\"Files in Temp folder has been Deleted Successfully!!\")"
      ],
      "metadata": {
        "id": "w62Rs3aMoXuz"
      },
      "execution_count": null,
      "outputs": []
    }
  ],
  "metadata": {
    "accelerator": "GPU",
    "colab": {
      "provenance": [],
      "private_outputs": true,
      "gpuType": "T4",
      "cell_execution_strategy": "setup",
      "include_colab_link": true
    },
    "kernelspec": {
      "display_name": "Python 3",
      "name": "python3"
    },
    "language_info": {
      "name": "python"
    }
  },
  "nbformat": 4,
  "nbformat_minor": 0
}